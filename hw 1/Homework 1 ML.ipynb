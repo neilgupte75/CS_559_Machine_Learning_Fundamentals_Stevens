{
 "cells": [
  {
   "cell_type": "code",
   "execution_count": 1,
   "metadata": {
    "ExecuteTime": {
     "end_time": "2019-10-05T00:03:58.253085Z",
     "start_time": "2019-10-05T00:03:56.907513Z"
    }
   },
   "outputs": [],
   "source": [
    "import numpy as np\n",
    "from sklearn.datasets import load_iris\n",
    "import matplotlib.pyplot as plt"
   ]
  },
  {
   "cell_type": "code",
   "execution_count": 2,
   "metadata": {
    "ExecuteTime": {
     "end_time": "2019-10-05T00:04:20.405070Z",
     "start_time": "2019-10-05T00:04:20.390136Z"
    }
   },
   "outputs": [],
   "source": [
    "iris = load_iris()"
   ]
  },
  {
   "cell_type": "code",
   "execution_count": 115,
   "metadata": {
    "ExecuteTime": {
     "end_time": "2019-10-05T01:15:30.148278Z",
     "start_time": "2019-10-05T01:15:30.144211Z"
    }
   },
   "outputs": [],
   "source": [
    "X = iris.data\n",
    "y = iris.target"
   ]
  },
  {
   "cell_type": "code",
   "execution_count": 116,
   "metadata": {
    "ExecuteTime": {
     "end_time": "2019-10-05T01:15:30.925023Z",
     "start_time": "2019-10-05T01:15:30.919959Z"
    }
   },
   "outputs": [],
   "source": [
    "non_versicolor_labels = [0 for i in range(100)]\n",
    "versicolor_labels = [1 for i in range(50)]"
   ]
  },
  {
   "cell_type": "code",
   "execution_count": 117,
   "metadata": {
    "ExecuteTime": {
     "end_time": "2019-10-05T01:15:31.702315Z",
     "start_time": "2019-10-05T01:15:31.695687Z"
    }
   },
   "outputs": [],
   "source": [
    "y = np.concatenate([non_versicolor_labels, versicolor_labels])"
   ]
  },
  {
   "cell_type": "code",
   "execution_count": 118,
   "metadata": {
    "ExecuteTime": {
     "end_time": "2019-10-05T01:15:32.305239Z",
     "start_time": "2019-10-05T01:15:32.295689Z"
    }
   },
   "outputs": [
    {
     "data": {
      "text/plain": [
       "array([0, 0, 0, 0, 0, 0, 0, 0, 0, 0, 0, 0, 0, 0, 0, 0, 0, 0, 0, 0, 0, 0,\n",
       "       0, 0, 0, 0, 0, 0, 0, 0, 0, 0, 0, 0, 0, 0, 0, 0, 0, 0, 0, 0, 0, 0,\n",
       "       0, 0, 0, 0, 0, 0, 0, 0, 0, 0, 0, 0, 0, 0, 0, 0, 0, 0, 0, 0, 0, 0,\n",
       "       0, 0, 0, 0, 0, 0, 0, 0, 0, 0, 0, 0, 0, 0, 0, 0, 0, 0, 0, 0, 0, 0,\n",
       "       0, 0, 0, 0, 0, 0, 0, 0, 0, 0, 0, 0, 1, 1, 1, 1, 1, 1, 1, 1, 1, 1,\n",
       "       1, 1, 1, 1, 1, 1, 1, 1, 1, 1, 1, 1, 1, 1, 1, 1, 1, 1, 1, 1, 1, 1,\n",
       "       1, 1, 1, 1, 1, 1, 1, 1, 1, 1, 1, 1, 1, 1, 1, 1, 1, 1])"
      ]
     },
     "execution_count": 118,
     "metadata": {},
     "output_type": "execute_result"
    }
   ],
   "source": [
    "y"
   ]
  },
  {
   "cell_type": "code",
   "execution_count": 119,
   "metadata": {
    "ExecuteTime": {
     "end_time": "2019-10-05T01:15:35.301877Z",
     "start_time": "2019-10-05T01:15:35.297087Z"
    }
   },
   "outputs": [],
   "source": [
    "perm = np.random.permutation(150)"
   ]
  },
  {
   "cell_type": "code",
   "execution_count": 120,
   "metadata": {
    "ExecuteTime": {
     "end_time": "2019-10-05T01:15:42.602429Z",
     "start_time": "2019-10-05T01:15:42.592317Z"
    }
   },
   "outputs": [
    {
     "data": {
      "text/plain": [
       "(150, 4)"
      ]
     },
     "execution_count": 120,
     "metadata": {},
     "output_type": "execute_result"
    }
   ],
   "source": [
    "X[perm].shape"
   ]
  },
  {
   "cell_type": "code",
   "execution_count": 121,
   "metadata": {
    "ExecuteTime": {
     "end_time": "2019-10-05T01:15:46.517479Z",
     "start_time": "2019-10-05T01:15:46.511749Z"
    }
   },
   "outputs": [],
   "source": [
    "X_train, X_test = X[perm][20:], X[perm][:20]\n",
    "y_train, y_test = y[perm][20:], y[perm][:20]"
   ]
  },
  {
   "cell_type": "code",
   "execution_count": 122,
   "metadata": {
    "ExecuteTime": {
     "end_time": "2019-10-05T01:15:50.041679Z",
     "start_time": "2019-10-05T01:15:50.032659Z"
    }
   },
   "outputs": [
    {
     "data": {
      "text/plain": [
       "((130, 4), (130,), (20, 4), (20,))"
      ]
     },
     "execution_count": 122,
     "metadata": {},
     "output_type": "execute_result"
    }
   ],
   "source": [
    "X_train.shape, y_train.shape, X_test.shape, y_test.shape"
   ]
  },
  {
   "cell_type": "code",
   "execution_count": 123,
   "metadata": {
    "ExecuteTime": {
     "end_time": "2019-10-05T01:15:52.274168Z",
     "start_time": "2019-10-05T01:15:52.264314Z"
    }
   },
   "outputs": [
    {
     "data": {
      "text/plain": [
       "array([1, 0, 0, 1, 0, 1, 0, 1, 0, 0, 0, 1, 1, 0, 0, 0, 0, 0, 0, 0])"
      ]
     },
     "execution_count": 123,
     "metadata": {},
     "output_type": "execute_result"
    }
   ],
   "source": [
    "y_test"
   ]
  },
  {
   "cell_type": "code",
   "execution_count": 124,
   "metadata": {
    "ExecuteTime": {
     "end_time": "2019-10-05T01:16:06.420944Z",
     "start_time": "2019-10-05T01:16:06.417266Z"
    }
   },
   "outputs": [],
   "source": [
    "versicolor = y_train==1\n",
    "not_versicolor = (y_train==0)"
   ]
  },
  {
   "cell_type": "code",
   "execution_count": 126,
   "metadata": {
    "ExecuteTime": {
     "end_time": "2019-10-05T01:16:23.121764Z",
     "start_time": "2019-10-05T01:16:23.113604Z"
    }
   },
   "outputs": [
    {
     "data": {
      "text/plain": [
       "(130,)"
      ]
     },
     "execution_count": 126,
     "metadata": {},
     "output_type": "execute_result"
    }
   ],
   "source": [
    "versicolor.shape"
   ]
  },
  {
   "cell_type": "code",
   "execution_count": 127,
   "metadata": {
    "ExecuteTime": {
     "end_time": "2019-10-05T01:16:26.262227Z",
     "start_time": "2019-10-05T01:16:26.257498Z"
    }
   },
   "outputs": [],
   "source": [
    "y_train = y_train.reshape(-1,1)\n",
    "y_test = y_test.reshape(-1,1)"
   ]
  },
  {
   "cell_type": "code",
   "execution_count": 128,
   "metadata": {
    "ExecuteTime": {
     "end_time": "2019-10-05T01:16:27.772273Z",
     "start_time": "2019-10-05T01:16:27.762821Z"
    }
   },
   "outputs": [
    {
     "data": {
      "text/plain": [
       "(20, 1)"
      ]
     },
     "execution_count": 128,
     "metadata": {},
     "output_type": "execute_result"
    }
   ],
   "source": [
    "y_test.shape"
   ]
  },
  {
   "cell_type": "code",
   "execution_count": 129,
   "metadata": {
    "ExecuteTime": {
     "end_time": "2019-10-05T01:16:29.517751Z",
     "start_time": "2019-10-05T01:16:29.513319Z"
    }
   },
   "outputs": [],
   "source": [
    "X_train = X_train[:, 2:]\n",
    "X_test = X_test[:, 2:]"
   ]
  },
  {
   "cell_type": "code",
   "execution_count": 138,
   "metadata": {
    "ExecuteTime": {
     "end_time": "2019-10-05T01:19:34.845951Z",
     "start_time": "2019-10-05T01:19:34.835781Z"
    }
   },
   "outputs": [
    {
     "data": {
      "text/plain": [
       "array([5.9, 4.9, 5.6, 5.8, 5.5, 5.4, 5.7, 5.7, 6.4, 5.8, 6.9, 6.1, 5.1,\n",
       "       6.6, 5. , 5. , 6.3, 5.8, 5.4, 5.6, 5.5, 5.5, 6.1, 6.1, 6. , 6.7,\n",
       "       5.2, 6. , 5.1, 6.7, 4.9, 5. , 5.3, 5.6, 5.6, 5.1, 5.6, 5.1, 5.7,\n",
       "       4.8, 4.9, 5.1, 4.5, 5.6])"
      ]
     },
     "execution_count": 138,
     "metadata": {},
     "output_type": "execute_result"
    }
   ],
   "source": [
    "X_train[np.ix_(versicolor,)][:,0]"
   ]
  },
  {
   "cell_type": "code",
   "execution_count": 140,
   "metadata": {
    "ExecuteTime": {
     "end_time": "2019-10-05T01:21:04.408394Z",
     "start_time": "2019-10-05T01:21:04.269931Z"
    }
   },
   "outputs": [
    {
     "data": {
      "image/png": "[encoded data removed]",
      "text/plain": [
       "<Figure size 432x288 with 1 Axes>"
      ]
     },
     "metadata": {
      "needs_background": "light"
     },
     "output_type": "display_data"
    }
   ],
   "source": [
    "plt.plot(X_train[np.ix_(versicolor,)][:,0], X_train[np.ix_(versicolor,)][:,1], 'b.')\n",
    "plt.plot(X_train[np.ix_(not_versicolor,)][:,0], X_train[np.ix_(not_versicolor,)][:,1], 'r.')\n",
    "plt.xlabel('Petal Lenght (cm)')\n",
    "plt.ylabel('Petal Width (cm)')\n",
    "plt.legend(['Versicolor','Not Versicolor'])\n",
    "plt.show()"
   ]
  },
  {
   "cell_type": "code",
   "execution_count": 141,
   "metadata": {
    "ExecuteTime": {
     "end_time": "2019-10-05T01:22:13.827782Z",
     "start_time": "2019-10-05T01:22:13.823796Z"
    }
   },
   "outputs": [],
   "source": [
    "def sigmoid(Z):\n",
    "    return 1 / (1+np.e**(-Z))"
   ]
  },
  {
   "cell_type": "code",
   "execution_count": 142,
   "metadata": {
    "ExecuteTime": {
     "end_time": "2019-10-05T01:23:22.897646Z",
     "start_time": "2019-10-05T01:23:22.881713Z"
    }
   },
   "outputs": [],
   "source": [
    "def logistic_loss(y, y_hat):\n",
    "    return -np.mean(y * np.log(y_hat) + (1-y) * np.log(1 - y_hat))"
   ]
  },
  {
   "cell_type": "code",
   "execution_count": 145,
   "metadata": {
    "ExecuteTime": {
     "end_time": "2019-10-05T01:28:11.826060Z",
     "start_time": "2019-10-05T01:28:11.815686Z"
    }
   },
   "outputs": [],
   "source": [
    "W  = np.zeros((2,1))\n",
    "b = np.zeros((1,1))\n",
    "learning_rate = 0.01"
   ]
  },
  {
   "cell_type": "code",
   "execution_count": 146,
   "metadata": {
    "ExecuteTime": {
     "end_time": "2019-10-05T01:28:13.018705Z",
     "start_time": "2019-10-05T01:28:12.622348Z"
    }
   },
   "outputs": [
    {
     "name": "stdout",
     "output_type": "stream",
     "text": [
      "0.6931471805599453\n",
      "0.42862281330489815\n",
      "0.35243524257499437\n",
      "0.3133411389309735\n",
      "0.28836009944489205\n",
      "0.27035986933549294\n",
      "0.2564236484496045\n",
      "0.24512146058504994\n",
      "0.23565853777186435\n",
      "0.22755101162530467\n",
      "0.22048335157900456\n",
      "0.21423855013173998\n",
      "0.20866093057618676\n",
      "0.20363495003435894\n",
      "0.19907243134763436\n",
      "0.1949045087949216\n",
      "0.19107634506185373\n",
      "0.1875435482860442\n",
      "0.18426967104455963\n",
      "0.18122442025829352\n",
      "0.17838234750568155\n",
      "0.17572187211855791\n",
      "0.1732245399252704\n",
      "0.1708744521675821\n",
      "0.168657819492006\n",
      "0.16656260933677028\n",
      "0.16457826406489623\n",
      "0.1626954733868379\n",
      "0.16090598893906896\n",
      "0.15920247195156012\n",
      "0.15757836714480522\n",
      "0.15602779760824867\n",
      "0.15454547660267146\n",
      "0.15312663311934308\n",
      "0.15176694870154644\n",
      "0.15046250354766647\n",
      "0.14920973031073922\n",
      "0.14800537431689487\n",
      "0.14684645916608957\n",
      "0.14573025686875124\n",
      "0.14465426182321883\n",
      "0.14361616805991878\n",
      "0.1426138492757353\n",
      "0.14164534126104106\n",
      "0.14070882638622284\n",
      "0.1398026198672656\n",
      "0.13892515757335416\n",
      "0.1380749851753474\n",
      "0.1372507484638015\n",
      "0.13645118469009207\n"
     ]
    }
   ],
   "source": [
    "m = len(y_train)\n",
    "\n",
    "for epoch in range(5000):\n",
    "    Z = np.matmul(X_train, W) + b\n",
    "    A = sigmoid(Z)\n",
    "    loss = logistic_loss(y_train, A)\n",
    "    dz = A - y_train\n",
    "    dW = 1/m * np.matmul(X_train.T, dz)\n",
    "    db = np.sum(dz)\n",
    "    \n",
    "    W = W - learning_rate * dW\n",
    "    b = b - learning_rate * db\n",
    "    \n",
    "    if epoch % 100==0:\n",
    "        print(loss)"
   ]
  },
  {
   "cell_type": "code",
   "execution_count": 147,
   "metadata": {
    "ExecuteTime": {
     "end_time": "2019-10-05T01:28:28.455825Z",
     "start_time": "2019-10-05T01:28:28.447086Z"
    }
   },
   "outputs": [
    {
     "data": {
      "text/plain": [
       "(array([[2.64468422],\n",
       "        [1.7653555 ]]), array([[-15.90063035]]))"
      ]
     },
     "execution_count": 147,
     "metadata": {},
     "output_type": "execute_result"
    }
   ],
   "source": [
    "W, b"
   ]
  },
  {
   "cell_type": "code",
   "execution_count": 148,
   "metadata": {
    "ExecuteTime": {
     "end_time": "2019-10-05T01:29:23.459538Z",
     "start_time": "2019-10-05T01:29:23.455016Z"
    }
   },
   "outputs": [],
   "source": [
    "preds = []\n",
    "for i in sigmoid(Z):\n",
    "    if i > 0.5:\n",
    "        preds.append(1)\n",
    "    else: \n",
    "        preds.append(0)"
   ]
  },
  {
   "cell_type": "code",
   "execution_count": 150,
   "metadata": {
    "ExecuteTime": {
     "end_time": "2019-10-05T01:29:45.692513Z",
     "start_time": "2019-10-05T01:29:45.649534Z"
    }
   },
   "outputs": [],
   "source": [
    "from sklearn.metrics import f1_score"
   ]
  },
  {
   "cell_type": "code",
   "execution_count": 151,
   "metadata": {
    "ExecuteTime": {
     "end_time": "2019-10-05T01:30:00.853769Z",
     "start_time": "2019-10-05T01:30:00.834345Z"
    }
   },
   "outputs": [
    {
     "data": {
      "text/plain": [
       "0.942528735632184"
      ]
     },
     "execution_count": 151,
     "metadata": {},
     "output_type": "execute_result"
    }
   ],
   "source": [
    "f1_score(preds, y_train)"
   ]
  },
  {
   "cell_type": "code",
   "execution_count": 152,
   "metadata": {
    "ExecuteTime": {
     "end_time": "2019-10-05T01:33:57.355999Z",
     "start_time": "2019-10-05T01:33:57.180717Z"
    }
   },
   "outputs": [
    {
     "data": {
      "text/plain": [
       "(-1, 3)"
      ]
     },
     "execution_count": 152,
     "metadata": {},
     "output_type": "execute_result"
    },
    {
     "data": {
      "image/png": "[encoded data removed]",
      "text/plain": [
       "<Figure size 432x288 with 1 Axes>"
      ]
     },
     "metadata": {
      "needs_background": "light"
     },
     "output_type": "display_data"
    }
   ],
   "source": [
    "plt.scatter(X_train[:,0], X_train[:,1], c =y_train.ravel())\n",
    "ax = plt.gca()\n",
    "xvals = np.array(ax.get_xlim()).reshape(-1,1)\n",
    "yvals = -(xvals * W[0][0] + b)/W[1][0]\n",
    "plt.plot(xvals, yvals)\n",
    "plt.ylim(-1,3)"
   ]
  },
  {
   "cell_type": "code",
   "execution_count": 153,
   "metadata": {
    "ExecuteTime": {
     "end_time": "2019-10-05T01:35:26.965481Z",
     "start_time": "2019-10-05T01:35:26.961296Z"
    }
   },
   "outputs": [],
   "source": [
    "test_preds = []\n",
    "for i in sigmoid(Z):\n",
    "    if i > 0.5:\n",
    "        test_preds.append(1)\n",
    "    if i < 0.5:\n",
    "        test_preds.append(0)"
   ]
  },
  {
   "cell_type": "code",
   "execution_count": 160,
   "metadata": {
    "ExecuteTime": {
     "end_time": "2019-10-05T01:36:58.134659Z",
     "start_time": "2019-10-05T01:36:58.123921Z"
    }
   },
   "outputs": [
    {
     "data": {
      "text/plain": [
       "[1,\n",
       " 0,\n",
       " 0,\n",
       " 1,\n",
       " 1,\n",
       " 0,\n",
       " 0,\n",
       " 0,\n",
       " 1,\n",
       " 0,\n",
       " 0,\n",
       " 0,\n",
       " 0,\n",
       " 1,\n",
       " 0,\n",
       " 0,\n",
       " 0,\n",
       " 0,\n",
       " 0,\n",
       " 1,\n",
       " 0,\n",
       " 0,\n",
       " 0,\n",
       " 0,\n",
       " 0,\n",
       " 1,\n",
       " 0,\n",
       " 1,\n",
       " 1,\n",
       " 1,\n",
       " 0,\n",
       " 0,\n",
       " 0,\n",
       " 1,\n",
       " 1,\n",
       " 0,\n",
       " 0,\n",
       " 0,\n",
       " 1,\n",
       " 1,\n",
       " 0,\n",
       " 0,\n",
       " 1,\n",
       " 0,\n",
       " 1,\n",
       " 0,\n",
       " 0,\n",
       " 0,\n",
       " 0,\n",
       " 1,\n",
       " 0,\n",
       " 1,\n",
       " 0,\n",
       " 0,\n",
       " 0,\n",
       " 1,\n",
       " 0,\n",
       " 0,\n",
       " 1,\n",
       " 0,\n",
       " 0,\n",
       " 1,\n",
       " 0,\n",
       " 1,\n",
       " 0,\n",
       " 1,\n",
       " 0,\n",
       " 1,\n",
       " 1,\n",
       " 0,\n",
       " 0,\n",
       " 1,\n",
       " 0,\n",
       " 0,\n",
       " 0,\n",
       " 1,\n",
       " 0,\n",
       " 0,\n",
       " 1,\n",
       " 0,\n",
       " 0,\n",
       " 0,\n",
       " 0,\n",
       " 1,\n",
       " 0,\n",
       " 0,\n",
       " 1,\n",
       " 1,\n",
       " 0,\n",
       " 1,\n",
       " 0,\n",
       " 0,\n",
       " 0,\n",
       " 0,\n",
       " 0,\n",
       " 1,\n",
       " 1,\n",
       " 0,\n",
       " 0,\n",
       " 1,\n",
       " 0,\n",
       " 1,\n",
       " 1,\n",
       " 0,\n",
       " 0,\n",
       " 0,\n",
       " 0,\n",
       " 1,\n",
       " 1,\n",
       " 0,\n",
       " 0,\n",
       " 1,\n",
       " 0,\n",
       " 0,\n",
       " 0,\n",
       " 1,\n",
       " 0,\n",
       " 0,\n",
       " 0,\n",
       " 0,\n",
       " 0,\n",
       " 1,\n",
       " 0,\n",
       " 0,\n",
       " 0,\n",
       " 0,\n",
       " 1,\n",
       " 0,\n",
       " 0,\n",
       " 0]"
      ]
     },
     "execution_count": 160,
     "metadata": {},
     "output_type": "execute_result"
    }
   ],
   "source": [
    "test_preds"
   ]
  },
  {
   "cell_type": "code",
   "execution_count": 161,
   "metadata": {
    "ExecuteTime": {
     "end_time": "2019-10-05T01:37:20.549175Z",
     "start_time": "2019-10-05T01:37:20.539940Z"
    }
   },
   "outputs": [
    {
     "name": "stdout",
     "output_type": "stream",
     "text": [
      "[1] [0] [0] [1] [0] [1] [0] [1] [0] [0] [0] [1] [1] [0] [0] [0] [0] [0] [0] [0]\n"
     ]
    }
   ],
   "source": [
    "print(*y_test)"
   ]
  },
  {
   "cell_type": "code",
   "execution_count": 163,
   "metadata": {
    "ExecuteTime": {
     "end_time": "2019-10-05T01:38:17.839280Z",
     "start_time": "2019-10-05T01:38:17.681525Z"
    }
   },
   "outputs": [
    {
     "data": {
      "text/plain": [
       "(-1, 3)"
      ]
     },
     "execution_count": 163,
     "metadata": {},
     "output_type": "execute_result"
    },
    {
     "data": {
      "image/png": "[encoded data removed]",
      "text/plain": [
       "<Figure size 432x288 with 1 Axes>"
      ]
     },
     "metadata": {
      "needs_background": "light"
     },
     "output_type": "display_data"
    }
   ],
   "source": [
    "plt.scatter(X_test[:,0], X_test[:,1], c =y_test.ravel())\n",
    "ax = plt.gca()\n",
    "xvals = np.array(ax.get_xlim()).reshape(-1,1)\n",
    "yvals = -(xvals * W[0][0] + b)/W[1][0]\n",
    "plt.plot(xvals, yvals)\n",
    "plt.ylim(-1,3)"
   ]
  },
  {
   "cell_type": "code",
   "execution_count": null,
   "metadata": {},
   "outputs": [],
   "source": []
  }
 ],
 "metadata": {
  "kernelspec": {
   "display_name": "Python 3",
   "language": "python",
   "name": "python3"
  },
  "language_info": {
   "codemirror_mode": {
    "name": "ipython",
    "version": 3
   },
   "file_extension": ".py",
   "mimetype": "text/x-python",
   "name": "python",
   "nbconvert_exporter": "python",
   "pygments_lexer": "ipython3",
   "version": "3.7.2"
  },
  "toc": {
   "base_numbering": 1,
   "nav_menu": {},
   "number_sections": true,
   "sideBar": true,
   "skip_h1_title": false,
   "title_cell": "Table of Contents",
   "title_sidebar": "Contents",
   "toc_cell": false,
   "toc_position": {},
   "toc_section_display": true,
   "toc_window_display": false
  },
  "varInspector": {
   "cols": {
    "lenName": 16,
    "lenType": 16,
    "lenVar": 40
   },
   "kernels_config": {
    "python": {
     "delete_cmd_postfix": "",
     "delete_cmd_prefix": "del ",
     "library": "var_list.py",
     "varRefreshCmd": "print(var_dic_list())"
    },
    "r": {
     "delete_cmd_postfix": ") ",
     "delete_cmd_prefix": "rm(",
     "library": "var_list.r",
     "varRefreshCmd": "cat(var_dic_list()) "
    }
   },
   "types_to_exclude": [
    "module",
    "function",
    "builtin_function_or_method",
    "instance",
    "_Feature"
   ],
   "window_display": false
  }
 },
 "nbformat": 4,
 "nbformat_minor": 2
}
